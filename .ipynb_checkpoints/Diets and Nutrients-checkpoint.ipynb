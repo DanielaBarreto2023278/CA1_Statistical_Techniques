{
 "cells": [
  {
   "cell_type": "markdown",
   "id": "72238188",
   "metadata": {},
   "source": [
    "I imported the libraries below because it is essential to work with any code. Otherwise, it would not be possible."
   ]
  },
  {
   "cell_type": "code",
   "execution_count": 2,
   "id": "8eae8991",
   "metadata": {},
   "outputs": [],
   "source": [
    "import pandas as pd\n",
    "import numpy as np\n",
    "import statistics as stats\n",
    "import matplotlib.pyplot as plt\n",
    "import seaborn as sns"
   ]
  },
  {
   "cell_type": "markdown",
   "id": "f9f506e9",
   "metadata": {},
   "source": [
    "I used the methods below to read and show the dataset."
   ]
  },
  {
   "cell_type": "code",
   "execution_count": 3,
   "id": "2d2b1593",
   "metadata": {},
   "outputs": [
    {
     "data": {
      "text/html": [
       "<div>\n",
       "<style scoped>\n",
       "    .dataframe tbody tr th:only-of-type {\n",
       "        vertical-align: middle;\n",
       "    }\n",
       "\n",
       "    .dataframe tbody tr th {\n",
       "        vertical-align: top;\n",
       "    }\n",
       "\n",
       "    .dataframe thead th {\n",
       "        text-align: right;\n",
       "    }\n",
       "</style>\n",
       "<table border=\"1\" class=\"dataframe\">\n",
       "  <thead>\n",
       "    <tr style=\"text-align: right;\">\n",
       "      <th></th>\n",
       "      <th>Diet_type</th>\n",
       "      <th>Recipe_name</th>\n",
       "      <th>Cuisine_type</th>\n",
       "      <th>Protein(g)</th>\n",
       "      <th>Carbs(g)</th>\n",
       "      <th>Fat(g)</th>\n",
       "      <th>Extraction_day</th>\n",
       "      <th>Extraction_time</th>\n",
       "    </tr>\n",
       "  </thead>\n",
       "  <tbody>\n",
       "    <tr>\n",
       "      <th>0</th>\n",
       "      <td>paleo</td>\n",
       "      <td>Bone Broth From 'Nom Nom Paleo'</td>\n",
       "      <td>american</td>\n",
       "      <td>5.22</td>\n",
       "      <td>1.29</td>\n",
       "      <td>3.20</td>\n",
       "      <td>2022-10-16</td>\n",
       "      <td>17:20:09</td>\n",
       "    </tr>\n",
       "    <tr>\n",
       "      <th>1</th>\n",
       "      <td>paleo</td>\n",
       "      <td>Paleo Effect Asian-Glazed Pork Sides, A Sweet ...</td>\n",
       "      <td>south east asian</td>\n",
       "      <td>181.55</td>\n",
       "      <td>28.62</td>\n",
       "      <td>146.14</td>\n",
       "      <td>2022-10-16</td>\n",
       "      <td>17:20:09</td>\n",
       "    </tr>\n",
       "    <tr>\n",
       "      <th>2</th>\n",
       "      <td>paleo</td>\n",
       "      <td>Paleo Pumpkin Pie</td>\n",
       "      <td>american</td>\n",
       "      <td>30.91</td>\n",
       "      <td>302.59</td>\n",
       "      <td>96.76</td>\n",
       "      <td>2022-10-16</td>\n",
       "      <td>17:20:09</td>\n",
       "    </tr>\n",
       "    <tr>\n",
       "      <th>3</th>\n",
       "      <td>paleo</td>\n",
       "      <td>Strawberry Guacamole recipes</td>\n",
       "      <td>mexican</td>\n",
       "      <td>9.62</td>\n",
       "      <td>75.78</td>\n",
       "      <td>59.89</td>\n",
       "      <td>2022-10-16</td>\n",
       "      <td>17:20:09</td>\n",
       "    </tr>\n",
       "    <tr>\n",
       "      <th>4</th>\n",
       "      <td>paleo</td>\n",
       "      <td>Asian Cauliflower Fried \"Rice\" From 'Nom Nom P...</td>\n",
       "      <td>chinese</td>\n",
       "      <td>39.84</td>\n",
       "      <td>54.08</td>\n",
       "      <td>71.55</td>\n",
       "      <td>2022-10-16</td>\n",
       "      <td>17:20:09</td>\n",
       "    </tr>\n",
       "  </tbody>\n",
       "</table>\n",
       "</div>"
      ],
      "text/plain": [
       "  Diet_type                                        Recipe_name  \\\n",
       "0     paleo                    Bone Broth From 'Nom Nom Paleo'   \n",
       "1     paleo  Paleo Effect Asian-Glazed Pork Sides, A Sweet ...   \n",
       "2     paleo                                  Paleo Pumpkin Pie   \n",
       "3     paleo                       Strawberry Guacamole recipes   \n",
       "4     paleo  Asian Cauliflower Fried \"Rice\" From 'Nom Nom P...   \n",
       "\n",
       "       Cuisine_type  Protein(g)  Carbs(g)  Fat(g) Extraction_day  \\\n",
       "0          american        5.22      1.29    3.20     2022-10-16   \n",
       "1  south east asian      181.55     28.62  146.14     2022-10-16   \n",
       "2          american       30.91    302.59   96.76     2022-10-16   \n",
       "3           mexican        9.62     75.78   59.89     2022-10-16   \n",
       "4           chinese       39.84     54.08   71.55     2022-10-16   \n",
       "\n",
       "  Extraction_time  \n",
       "0        17:20:09  \n",
       "1        17:20:09  \n",
       "2        17:20:09  \n",
       "3        17:20:09  \n",
       "4        17:20:09  "
      ]
     },
     "execution_count": 3,
     "metadata": {},
     "output_type": "execute_result"
    }
   ],
   "source": [
    "df = pd.read_csv('All_Diets.csv')\n",
    "df.head()"
   ]
  },
  {
   "cell_type": "markdown",
   "id": "3ba702ce",
   "metadata": {},
   "source": [
    "I used the data.info() method to obtain the types of data I have in this dataset.\n",
    "The result showed that the first three columns are object type, meaning that the data type is a string, that is, a categorical type of data. The columns Protein, Carbs, and Fat are presented as float64, meaning they are given by decimal numbers with high precision compared to the 32-bite system.  The last two columns are called object data type, but it is not considered a data type in Python. "
   ]
  },
  {
   "cell_type": "code",
   "execution_count": 4,
   "id": "3881edaa",
   "metadata": {
    "scrolled": true
   },
   "outputs": [
    {
     "name": "stdout",
     "output_type": "stream",
     "text": [
      "<class 'pandas.core.frame.DataFrame'>\n",
      "RangeIndex: 7806 entries, 0 to 7805\n",
      "Data columns (total 8 columns):\n",
      " #   Column           Non-Null Count  Dtype  \n",
      "---  ------           --------------  -----  \n",
      " 0   Diet_type        7806 non-null   object \n",
      " 1   Recipe_name      7806 non-null   object \n",
      " 2   Cuisine_type     7806 non-null   object \n",
      " 3   Protein(g)       7806 non-null   float64\n",
      " 4   Carbs(g)         7806 non-null   float64\n",
      " 5   Fat(g)           7806 non-null   float64\n",
      " 6   Extraction_day   7806 non-null   object \n",
      " 7   Extraction_time  7806 non-null   object \n",
      "dtypes: float64(3), object(5)\n",
      "memory usage: 488.0+ KB\n"
     ]
    }
   ],
   "source": [
    "df.info()"
   ]
  },
  {
   "cell_type": "markdown",
   "id": "432961bf",
   "metadata": {},
   "source": [
    "### Cleaning data"
   ]
  },
  {
   "cell_type": "markdown",
   "id": "3473cc5d",
   "metadata": {},
   "source": [
    "Now I am using the code df.isnull().sum() to calculate the numbers of missing (null and NaN) values in all columns of the dataset. As result I found that there is no missing values."
   ]
  },
  {
   "cell_type": "code",
   "execution_count": 5,
   "id": "5ebbe382",
   "metadata": {
    "scrolled": true
   },
   "outputs": [
    {
     "data": {
      "text/plain": [
       "Diet_type          0\n",
       "Recipe_name        0\n",
       "Cuisine_type       0\n",
       "Protein(g)         0\n",
       "Carbs(g)           0\n",
       "Fat(g)             0\n",
       "Extraction_day     0\n",
       "Extraction_time    0\n",
       "dtype: int64"
      ]
     },
     "execution_count": 5,
     "metadata": {},
     "output_type": "execute_result"
    }
   ],
   "source": [
    "df.isnull().sum()"
   ]
  },
  {
   "cell_type": "markdown",
   "id": "ac049ec5",
   "metadata": {},
   "source": [
    "The method miss_val_formats call a list of strings that have some possible formats that might be used to indicate missing or invalid data in the dataset. Then the code below will search on the entire dataset for all the data that are in the list 'miss_val_formats' which may represent missing or invalid data and place them with 'NaN', which means not a number.\n",
    "The result confirms that there is not missing or invalid data."
   ]
  },
  {
   "cell_type": "code",
   "execution_count": 29,
   "id": "857f3996",
   "metadata": {},
   "outputs": [
    {
     "name": "stdout",
     "output_type": "stream",
     "text": [
      "<class 'pandas.core.frame.DataFrame'>\n",
      "RangeIndex: 7806 entries, 0 to 7805\n",
      "Data columns (total 8 columns):\n",
      " #   Column           Non-Null Count  Dtype  \n",
      "---  ------           --------------  -----  \n",
      " 0   Diet_type        7806 non-null   object \n",
      " 1   Recipe_name      7806 non-null   object \n",
      " 2   Cuisine_type     7806 non-null   object \n",
      " 3   Protein(g)       7806 non-null   float64\n",
      " 4   Carbs(g)         7806 non-null   float64\n",
      " 5   Fat(g)           7806 non-null   float64\n",
      " 6   Extraction_day   7806 non-null   object \n",
      " 7   Extraction_time  7806 non-null   object \n",
      "dtypes: float64(3), object(5)\n",
      "memory usage: 488.0+ KB\n"
     ]
    }
   ],
   "source": [
    "miss_val_formats = [\"n.a.\", \"?\", \"NA\", \"n/a\", \"na\", \"--\"]\n",
    "df = pd.read_csv(\"All_Diets.csv\", na_values=miss_val_formats)\n",
    "df.info()"
   ]
  },
  {
   "cell_type": "markdown",
   "id": "7f1e76cc",
   "metadata": {},
   "source": [
    "### Numerical Summaries"
   ]
  },
  {
   "cell_type": "markdown",
   "id": "bc6fd8ca",
   "metadata": {},
   "source": [
    "The Numerical summaries describe characteristics of the data such as distribuition using: mean, median, mode, quartiles, variance, standard deviation, minimum and maximum values."
   ]
  },
  {
   "cell_type": "markdown",
   "id": "a3ad58fd",
   "metadata": {},
   "source": [
    "### Mean:\n",
    "Refers to the average of a set of numbers. It is calculated by adding up all the values and dividing by the number of values.(Nicholas, 1999, p.1)"
   ]
  },
  {
   "cell_type": "markdown",
   "id": "6a4aa204",
   "metadata": {},
   "source": [
    "I used the .describe() function to give numerical summary results for the numerical columns.\n",
    "Analysing this table, I can see that these three columns present skewed data because the comparison between mean and median (50% values) is not similar. Thus, this data does not have a normal distribution."
   ]
  },
  {
   "cell_type": "code",
   "execution_count": 32,
   "id": "48137f38",
   "metadata": {
    "scrolled": true
   },
   "outputs": [
    {
     "data": {
      "text/html": [
       "<div>\n",
       "<style scoped>\n",
       "    .dataframe tbody tr th:only-of-type {\n",
       "        vertical-align: middle;\n",
       "    }\n",
       "\n",
       "    .dataframe tbody tr th {\n",
       "        vertical-align: top;\n",
       "    }\n",
       "\n",
       "    .dataframe thead th {\n",
       "        text-align: right;\n",
       "    }\n",
       "</style>\n",
       "<table border=\"1\" class=\"dataframe\">\n",
       "  <thead>\n",
       "    <tr style=\"text-align: right;\">\n",
       "      <th></th>\n",
       "      <th>Protein(g)</th>\n",
       "      <th>Carbs(g)</th>\n",
       "      <th>Fat(g)</th>\n",
       "    </tr>\n",
       "  </thead>\n",
       "  <tbody>\n",
       "    <tr>\n",
       "      <th>count</th>\n",
       "      <td>7806.000000</td>\n",
       "      <td>7806.000000</td>\n",
       "      <td>7806.000000</td>\n",
       "    </tr>\n",
       "    <tr>\n",
       "      <th>mean</th>\n",
       "      <td>83.231498</td>\n",
       "      <td>152.123189</td>\n",
       "      <td>117.328542</td>\n",
       "    </tr>\n",
       "    <tr>\n",
       "      <th>std</th>\n",
       "      <td>89.797282</td>\n",
       "      <td>185.907322</td>\n",
       "      <td>122.098117</td>\n",
       "    </tr>\n",
       "    <tr>\n",
       "      <th>min</th>\n",
       "      <td>0.000000</td>\n",
       "      <td>0.060000</td>\n",
       "      <td>0.000000</td>\n",
       "    </tr>\n",
       "    <tr>\n",
       "      <th>25%</th>\n",
       "      <td>24.415000</td>\n",
       "      <td>36.162500</td>\n",
       "      <td>41.067500</td>\n",
       "    </tr>\n",
       "    <tr>\n",
       "      <th>50%</th>\n",
       "      <td>56.280000</td>\n",
       "      <td>93.415000</td>\n",
       "      <td>84.865000</td>\n",
       "    </tr>\n",
       "    <tr>\n",
       "      <th>75%</th>\n",
       "      <td>112.357500</td>\n",
       "      <td>205.915000</td>\n",
       "      <td>158.290000</td>\n",
       "    </tr>\n",
       "    <tr>\n",
       "      <th>max</th>\n",
       "      <td>1273.610000</td>\n",
       "      <td>3405.550000</td>\n",
       "      <td>1930.240000</td>\n",
       "    </tr>\n",
       "  </tbody>\n",
       "</table>\n",
       "</div>"
      ],
      "text/plain": [
       "        Protein(g)     Carbs(g)       Fat(g)\n",
       "count  7806.000000  7806.000000  7806.000000\n",
       "mean     83.231498   152.123189   117.328542\n",
       "std      89.797282   185.907322   122.098117\n",
       "min       0.000000     0.060000     0.000000\n",
       "25%      24.415000    36.162500    41.067500\n",
       "50%      56.280000    93.415000    84.865000\n",
       "75%     112.357500   205.915000   158.290000\n",
       "max    1273.610000  3405.550000  1930.240000"
      ]
     },
     "execution_count": 32,
     "metadata": {},
     "output_type": "execute_result"
    }
   ],
   "source": [
    "df.describe()"
   ]
  },
  {
   "cell_type": "markdown",
   "id": "0fe71142",
   "metadata": {},
   "source": [
    "### Mean Function: \n",
    "This first part of a function is similar to the other functions. We have to instanciate the function with the *def* word followed by name of the function (calc_mean) and variable between parenthesis, where there will pass the columns name.\n",
    "\n",
    "The second part is for check if the length of the variable is equal to 0, if so the list is empty and the function returns None. But if the length is not 0, it proceeds to the next part, the mean calculation.\n",
    "\n",
    "To calculate the mean, the sum() function of the variable over the number of elements in the variable, which is the length of the variable. Then, the function returns the calculated mean."
   ]
  },
  {
   "cell_type": "code",
   "execution_count": 46,
   "id": "c1ba90b2",
   "metadata": {},
   "outputs": [],
   "source": [
    "def calc_mean(variable):\n",
    "    if len(variable) == 0:\n",
    "        return None\n",
    "    mean = sum(variable) / len(variable)\n",
    "    return mean"
   ]
  },
  {
   "cell_type": "code",
   "execution_count": 47,
   "id": "9d2aa386",
   "metadata": {},
   "outputs": [
    {
     "data": {
      "text/plain": [
       "83.23149756597437"
      ]
     },
     "execution_count": 47,
     "metadata": {},
     "output_type": "execute_result"
    }
   ],
   "source": [
    "calc_mean(df['Protein(g)'])"
   ]
  },
  {
   "cell_type": "markdown",
   "id": "d70a94b4",
   "metadata": {},
   "source": [
    "### Median Function:\n",
    "Median is the middle number and it is calculated by putting the numbers in order and taking the actual middle number if there is one, or the average of the two middle numbers if not. (Nicholas, 1999, p.1)\n",
    "\n",
    "The initial part is sorting the variable list in ascending order using the sorted() function. Then, the variable 'n' is assigned the length of the sorted list and the number of elements in the list.\n",
    "\n",
    "The if part of the code checks if 'n' is an even or odd number. If 'n' is divisible by, there are two middle elements, and in this case, the mean between these two elements will be the median. However, if 'n' is not divisible by two, there is a unique middle element, which will be the median.\n",
    "\n",
    "Then, the function will return the median value for a specific variable."
   ]
  },
  {
   "cell_type": "code",
   "execution_count": 72,
   "id": "ef495249",
   "metadata": {},
   "outputs": [],
   "source": [
    "def calc_median(variable):\n",
    "    sorted_variable = sorted(variable)\n",
    "    n = len(sorted_variable)\n",
    "\n",
    "    if n % 2 == 0:\n",
    "        mid1 = sorted_variable[n // 2 - 1]\n",
    "        mid2 = sorted_variable[n // 2]\n",
    "        median = (mid1 + mid2) / 2\n",
    "    else:\n",
    "        median = sorted_variable[n // 2]\n",
    "    return median"
   ]
  },
  {
   "cell_type": "code",
   "execution_count": 87,
   "id": "1c58766b",
   "metadata": {},
   "outputs": [
    {
     "data": {
      "text/plain": [
       "56.28"
      ]
     },
     "execution_count": 87,
     "metadata": {},
     "output_type": "execute_result"
    }
   ],
   "source": [
    "calc_median(df['Protein(g)'])"
   ]
  },
  {
   "cell_type": "markdown",
   "id": "9d6569fa",
   "metadata": {},
   "source": [
    "### Mode Function:\n",
    "Mode is defined as the most commonly occurring number.(Nicholas, 1999, p.1)\n",
    "\n",
    "The first part of this fuction is for check if the length of the variable is equal to 0, if so the list is empty and the function returns None. But if the length is not 0, it proceeds to the next part.\n",
    "\n",
    "Secondly, a dictionary 'num_freq' stores the frequency of each unique number in the variable.\n",
    "\n",
    "The *for* part verifies if each number found is already a key in the dictionary ('num_freq'). If the value is associated with the key, it is added by one; if not, a new key is associated, and the initial count is one.\n",
    "\n",
    "The next step is to find the highest frequency in the variable, and for it, the 'max_count' function is used.\n",
    "\n",
    "Then, the code 'mode' checks if the frequency of each number matches with the 'max_count'; if so, the numbers are added to the 'mode' list. \n",
    "\n",
    "The last part compares if the mode's length is equal to the length of the variable. If they are similar, it means that the elements have the same frequency, so there are no elements that appear more frequently, and there is no mode."
   ]
  },
  {
   "cell_type": "code",
   "execution_count": 75,
   "id": "42fc611f",
   "metadata": {},
   "outputs": [],
   "source": [
    "def calc_mode(variable):\n",
    "    if len(variable) == 0:\n",
    "        return None\n",
    "    num_freq = {}\n",
    "   \n",
    "    for num in variable: \n",
    "        if num in num_freq:\n",
    "            num_freq[num] += 1\n",
    "        else:  \n",
    "            num_freq[num] = 1\n",
    "    \n",
    "    max_count = max(num_freq.values())\n",
    "    mode = [num for num, count in num_freq.items() if count == max_count]\n",
    "    \n",
    "    if len(mode) == len(variable):\n",
    "        return \"No mode found\"\n",
    "    return mode"
   ]
  },
  {
   "cell_type": "code",
   "execution_count": 88,
   "id": "56ae5739",
   "metadata": {},
   "outputs": [
    {
     "data": {
      "text/plain": [
       "[0.0]"
      ]
     },
     "execution_count": 88,
     "metadata": {},
     "output_type": "execute_result"
    }
   ],
   "source": [
    "calc_mode(df['Protein(g)'])"
   ]
  },
  {
   "cell_type": "code",
   "execution_count": null,
   "id": "662dffca",
   "metadata": {},
   "outputs": [],
   "source": [
    "\n"
   ]
  },
  {
   "cell_type": "code",
   "execution_count": null,
   "id": "816c4534",
   "metadata": {},
   "outputs": [],
   "source": []
  },
  {
   "cell_type": "code",
   "execution_count": null,
   "id": "61d74114",
   "metadata": {},
   "outputs": [],
   "source": []
  },
  {
   "cell_type": "code",
   "execution_count": null,
   "id": "98b1494a",
   "metadata": {},
   "outputs": [],
   "source": []
  },
  {
   "cell_type": "code",
   "execution_count": null,
   "id": "0186bf5b",
   "metadata": {},
   "outputs": [],
   "source": []
  },
  {
   "cell_type": "markdown",
   "id": "7eda3863",
   "metadata": {},
   "source": [
    "### References"
   ]
  },
  {
   "cell_type": "markdown",
   "id": "d8e014b2",
   "metadata": {},
   "source": [
    "Nicholas, J. (1999). *Introduction to Descriptive Statistics*. Sydney: Mathematics Learning Centre, University Of Sydney. "
   ]
  }
 ],
 "metadata": {
  "kernelspec": {
   "display_name": "Python 3 (ipykernel)",
   "language": "python",
   "name": "python3"
  },
  "language_info": {
   "codemirror_mode": {
    "name": "ipython",
    "version": 3
   },
   "file_extension": ".py",
   "mimetype": "text/x-python",
   "name": "python",
   "nbconvert_exporter": "python",
   "pygments_lexer": "ipython3",
   "version": "3.11.4"
  }
 },
 "nbformat": 4,
 "nbformat_minor": 5
}
